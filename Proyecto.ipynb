{
 "cells": [
  {
   "cell_type": "markdown",
   "metadata": {},
   "source": [
    "# Expectativas del curso #"
   ]
  },
  {
   "cell_type": "markdown",
   "metadata": {},
   "source": [
    "- ### Honestamente acerca del curso no tengo ninguna referencia de compañeros que ya hayan cursado la materia por lo cual vengo en blanco sobre que es lo que se hace en esta materia y como nos puede ayudar en el desarrollo laboral. ###\n",
    "\n",
    "- **Lo más importante** para mi sería obtener un claro conocimiento acerca de que es la materia en sí puesto que considero que puede ser una de las materias más relevantes de las que he cursado hasta el momento.\n",
    "\n",
    "- *No he investigado mucho de que son los procesos financieros en su totalidad ni para que sirven o como aplicarlos*, por lo cual la expectativa que tengo de esta materia es muy alta dado la curiosidad que tengo acerca de como se irá desarrollando el curso.\n",
    "\n",
    "- ## Cabe recalcar que es una materia de programación debido a la simulación que presenta, a lo largo de la carrera este nunca ha sido mi fuerte por lo cual espero que la mayoría de los procesos que realicemos podamos tomarlos con calma y les demos el tiempo suficiente a cada uno de ellos. ##\n",
    "\n",
    "\n",
    "| Club          | PJ | G | E | P | Pts |\n",
    "|---------------|----|---|---|---|-----|\n",
    "| León          | 4  | 3 | 0 | 1 | 9   |\n",
    "| Pumas         | 4  | 3 | 0 | 1 | 9   |\n",
    "| Juárez        | 4  | 2 | 2 | 0 | 8   |\n",
    "| Necaxa        | 4  | 2 | 1 | 1 | 7   |\n",
    "| Guadalajara   | 4  | 1 | 3 | 0 | 6   |\n",
    "| Atl. San Luis | 4  | 1 | 3 | 0 | 6   |\n",
    "| Atlas         | 4  | 2 | 0 | 2 | 6   |\n"
   ]
  },
  {
   "cell_type": "markdown",
   "metadata": {},
   "source": []
  },
  {
   "cell_type": "markdown",
   "metadata": {},
   "source": []
  },
  {
   "cell_type": "markdown",
   "metadata": {},
   "source": []
  }
 ],
 "metadata": {
  "kernelspec": {
   "display_name": "Python 3",
   "language": "python",
   "name": "python3"
  },
  "language_info": {
   "codemirror_mode": {
    "name": "ipython",
    "version": 3
   },
   "file_extension": ".py",
   "mimetype": "text/x-python",
   "name": "python",
   "nbconvert_exporter": "python",
   "pygments_lexer": "ipython3",
   "version": "3.7.1"
  }
 },
 "nbformat": 4,
 "nbformat_minor": 2
}
